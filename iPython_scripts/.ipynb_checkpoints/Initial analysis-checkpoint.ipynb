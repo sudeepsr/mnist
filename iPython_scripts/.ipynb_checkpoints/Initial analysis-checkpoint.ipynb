{
 "metadata": {
  "name": "",
  "signature": "sha256:4bdef1c2cc0cb3f33807e4c64ccd29f7a2d605a207a0e7a9df204d098502e986"
 },
 "nbformat": 3,
 "nbformat_minor": 0,
 "worksheets": [
  {
   "cells": [
    {
     "cell_type": "code",
     "collapsed": false,
     "input": [
      "import pandas as pd;\n",
      "def mask(df,f):\n",
      "    return df[f(df)]\n",
      "\n",
      "pd.DataFrame.mask = mask\n",
      "import random,time;"
     ],
     "language": "python",
     "metadata": {},
     "outputs": [],
     "prompt_number": 30
    },
    {
     "cell_type": "code",
     "collapsed": false,
     "input": [
      "\n",
      "train = pd.read_csv(\"../data/train.csv\")\n",
      "train.head(10)"
     ],
     "language": "python",
     "metadata": {},
     "outputs": [
      {
       "html": [
        "<pre>\n",
        "&lt;class 'pandas.core.frame.DataFrame'&gt;\n",
        "Int64Index: 10 entries, 0 to 9\n",
        "Columns: 785 entries, label to pixel783\n",
        "dtypes: int64(785)\n",
        "</pre>"
       ],
       "metadata": {},
       "output_type": "pyout",
       "prompt_number": 2,
       "text": [
        "<class 'pandas.core.frame.DataFrame'>\n",
        "Int64Index: 10 entries, 0 to 9\n",
        "Columns: 785 entries, label to pixel783\n",
        "dtypes: int64(785)"
       ]
      }
     ],
     "prompt_number": 2
    },
    {
     "cell_type": "code",
     "collapsed": false,
     "input": [
      "%pylab inline\n",
      "train.groupby('label').count()['label'].plot(kind='bar')\n"
     ],
     "language": "python",
     "metadata": {},
     "outputs": [
      {
       "output_type": "stream",
       "stream": "stdout",
       "text": [
        "Populating the interactive namespace from numpy and matplotlib\n"
       ]
      },
      {
       "metadata": {},
       "output_type": "pyout",
       "prompt_number": 18,
       "text": [
        "<matplotlib.axes.AxesSubplot at 0x12510c390>"
       ]
      },
      {
       "metadata": {},
       "output_type": "display_data",
       "png": "[encoded data removed]",
       "text": [
        "<matplotlib.figure.Figure at 0x1226d1150>"
       ]
      }
     ],
     "prompt_number": 18
    },
    {
     "cell_type": "code",
     "collapsed": false,
     "input": [
      "random.seed(int(time.time()))\n",
      "train['bucket']=[random.randint(0, 9) for x in train.index]"
     ],
     "language": "python",
     "metadata": {},
     "outputs": [],
     "prompt_number": 28
    },
    {
     "cell_type": "code",
     "collapsed": false,
     "input": [
      "train_train = train.mask(lambda x:x['bucket'] > 0)\n",
      "train_test = train.mask(lambda x:x['bucket']==0)"
     ],
     "language": "python",
     "metadata": {},
     "outputs": [],
     "prompt_number": 31
    },
    {
     "cell_type": "code",
     "collapsed": false,
     "input": [
      "def get_acc(test,output):\n",
      "  acc = 100*sum(train_test['label']==output)/len(output)\n",
      "  return acc\n",
      "\n",
      "def get_class_acc(test,output):\n",
      "    acc = {}\n",
      "    classes = test.groupby('label').count().index\n",
      "    for c in classes:\n",
      "        acc[c]=100*sum(output[test['label']==c]==c)/sum(test['label']==c)\n",
      "    return acc\n",
      "\n",
      "def get_class_cross_pred(test,output):\n",
      "    acc = {}\n",
      "    classes = test.groupby('label').count().index\n",
      "    for c in classes:\n",
      "        acc[c]={}\n",
      "        for c2 in classes:\n",
      "            acc[c][c2] = 100*(sum(output[test['label']==c]==c2)/sum(test['label']==c))\n",
      "    return acc"
     ],
     "language": "python",
     "metadata": {},
     "outputs": [],
     "prompt_number": 59
    },
    {
     "cell_type": "code",
     "collapsed": false,
     "input": [
      "get_class_cross_pred(train_test,train_test['label'])"
     ],
     "language": "python",
     "metadata": {},
     "outputs": [
      {
       "metadata": {},
       "output_type": "pyout",
       "prompt_number": 61,
       "text": [
        "{0: {0: 100, 1: 0, 2: 0, 3: 0, 4: 0, 5: 0, 6: 0, 7: 0, 8: 0, 9: 0},\n",
        " 1: {0: 0, 1: 100, 2: 0, 3: 0, 4: 0, 5: 0, 6: 0, 7: 0, 8: 0, 9: 0},\n",
        " 2: {0: 0, 1: 0, 2: 100, 3: 0, 4: 0, 5: 0, 6: 0, 7: 0, 8: 0, 9: 0},\n",
        " 3: {0: 0, 1: 0, 2: 0, 3: 100, 4: 0, 5: 0, 6: 0, 7: 0, 8: 0, 9: 0},\n",
        " 4: {0: 0, 1: 0, 2: 0, 3: 0, 4: 100, 5: 0, 6: 0, 7: 0, 8: 0, 9: 0},\n",
        " 5: {0: 0, 1: 0, 2: 0, 3: 0, 4: 0, 5: 100, 6: 0, 7: 0, 8: 0, 9: 0},\n",
        " 6: {0: 0, 1: 0, 2: 0, 3: 0, 4: 0, 5: 0, 6: 100, 7: 0, 8: 0, 9: 0},\n",
        " 7: {0: 0, 1: 0, 2: 0, 3: 0, 4: 0, 5: 0, 6: 0, 7: 100, 8: 0, 9: 0},\n",
        " 8: {0: 0, 1: 0, 2: 0, 3: 0, 4: 0, 5: 0, 6: 0, 7: 0, 8: 100, 9: 0},\n",
        " 9: {0: 0, 1: 0, 2: 0, 3: 0, 4: 0, 5: 0, 6: 0, 7: 0, 8: 0, 9: 100}}"
       ]
      }
     ],
     "prompt_number": 61
    },
    {
     "cell_type": "code",
     "collapsed": false,
     "input": [
      "images = train.iloc[:,1:785].values\n",
      "\n",
      "images = images.astype(np.float)\n",
      "\n",
      "# convert from [0:255] => [0.0:1.0]\n",
      "images = np.multiply(images, 1.0 / 255.0)\n",
      "\n",
      "print('images({0[0]},{0[1]})'.format(images.shape))"
     ],
     "language": "python",
     "metadata": {},
     "outputs": [
      {
       "output_type": "stream",
       "stream": "stdout",
       "text": [
        "images(42000,784)\n"
       ]
      }
     ],
     "prompt_number": 73
    },
    {
     "cell_type": "code",
     "collapsed": false,
     "input": [
      "image_size = images.shape[1]\n",
      "image_width = image_height = np.ceil(np.sqrt(image_size)).astype(np.uint8)\n",
      "\n",
      "print ('image_width => {0}\\nimage_height => {1}'.format(image_width,image_height))"
     ],
     "language": "python",
     "metadata": {},
     "outputs": [
      {
       "output_type": "stream",
       "stream": "stdout",
       "text": [
        "image_width => 28\n",
        "image_height => 28\n"
       ]
      }
     ],
     "prompt_number": 74
    },
    {
     "cell_type": "code",
     "collapsed": false,
     "input": [
      "# display image\n",
      "def display(img):\n",
      "    \n",
      "    # (784) => (28,28)\n",
      "    one_image = img.reshape(image_width,image_height)\n",
      "    \n",
      "    plt.axis('off')\n",
      "    plt.imshow(one_image, cmap=cm.binary)\n",
      "\n",
      "# output image  \n",
      "\n"
     ],
     "language": "python",
     "metadata": {},
     "outputs": [],
     "prompt_number": 83
    },
    {
     "cell_type": "code",
     "collapsed": false,
     "input": [
      "def display_100(label):\n",
      "    for i in range(100):\n",
      "        plt.subplot(10,10,i+1) \n",
      "        display(images[train.label.values==label][i])"
     ],
     "language": "python",
     "metadata": {},
     "outputs": [],
     "prompt_number": 95
    },
    {
     "cell_type": "code",
     "collapsed": false,
     "input": [
      "display_100(7)"
     ],
     "language": "python",
     "metadata": {},
     "outputs": []
    },
    {
     "cell_type": "code",
     "collapsed": false,
     "input": [],
     "language": "python",
     "metadata": {},
     "outputs": []
    }
   ],
   "metadata": {}
  }
 ]
}